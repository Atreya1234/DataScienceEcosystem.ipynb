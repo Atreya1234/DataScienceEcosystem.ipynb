{
 "cells": [
  {
   "cell_type": "markdown",
   "id": "ff012bee-1f6b-4fb1-be42-f458f452d9cf",
   "metadata": {},
   "source": [
    "# Data Science Tools and Ecosystem"
   ]
  },
  {
   "cell_type": "markdown",
   "id": "37169d0b-43ef-4eb2-a600-cf04fe28e610",
   "metadata": {},
   "source": [
    "In this notebook, Data Science Tools and Ecosystem are summarized."
   ]
  },
  {
   "cell_type": "markdown",
   "id": "3febd075-33cd-4a3f-b4ab-b761b37020f9",
   "metadata": {},
   "source": [
    "__Some of the popular languages that Data Scientists use are___: \n",
    "* Python\n",
    "* R\n",
    "* SQL\n",
    "* Scala\n",
    "* Java\n",
    "* C++\n",
    "* Julia etc.\n",
    "  \n"
   ]
  },
  {
   "cell_type": "markdown",
   "id": "155e4b49-b01c-4cfd-831a-407183c7a80c",
   "metadata": {},
   "source": [
    "__Some of the commonly used libraries used by Data Scientists include__:\n",
    "* NuumPy.\n",
    "* Pandas.\n",
    "* Matplotlib.\n",
    "* Scikit-learn.\n",
    "* Tensorflow. \n",
    "* PyTorch.\n",
    "* Keras.\n",
    "* SciPy. etc.\n",
    "\n"
   ]
  },
  {
   "cell_type": "markdown",
   "id": "3628de62-c82c-4fbb-b2e7-e34383124f09",
   "metadata": {},
   "source": [
    "|Data Science Tools|Description|\n",
    "|---|---|\n",
    "|TensorFlow|Deep learning framework for building and neural networks,developed by Google Brain.|\n",
    "|R|Programming language and environment for statistical coumpting and graphis.|\n",
    "|Scikit-learn|Simple and efficient tools for data mining and data analysis,providing a wide range of machine learning algorithms.|\n",
    "|Pandas|Simplifies data analysis and manipulation in Python by providing high-performance,easy-to-use data structures and data processing tools.|"
   ]
  },
  {
   "cell_type": "markdown",
   "id": "ca65cf12-53d2-4e16-9133-e06c9ca5a826",
   "metadata": {},
   "source": [
    "### Below are a few examples of evaluating arithmetic expressions in Python."
   ]
  },
  {
   "cell_type": "code",
   "execution_count": 3,
   "id": "22621f9f-0857-461e-b4db-ed484bf7d818",
   "metadata": {},
   "outputs": [
    {
     "data": {
      "text/plain": [
       "17"
      ]
     },
     "execution_count": 3,
     "metadata": {},
     "output_type": "execute_result"
    }
   ],
   "source": [
    "#this a simple arithmetic expression to mutiply then add integers\n",
    "(3*4)+5"
   ]
  },
  {
   "cell_type": "code",
   "execution_count": 4,
   "id": "5e3e6bdf-19ed-4559-aecd-6ff1c9990f0c",
   "metadata": {},
   "outputs": [
    {
     "data": {
      "text/plain": [
       "3.3333333333333335"
      ]
     },
     "execution_count": 4,
     "metadata": {},
     "output_type": "execute_result"
    }
   ],
   "source": [
    "#this will convert 200 minutes to hours by diving by 60\n",
    "200/60"
   ]
  },
  {
   "cell_type": "markdown",
   "id": "7582af2b-de80-4a5f-9280-d164361144c4",
   "metadata": {},
   "source": [
    "__Objectives__\n",
    "* List popular languages for Data Science\n",
    "* Popular Data Science librariues list\n",
    "* List of well-known Data Science Tools\n",
    "* How to Leave Remarks in a Cell \n",
    "\n",
    "\n",
    "\n",
    "\n",
    "\n",
    "\n",
    "\n"
   ]
  },
  {
   "cell_type": "markdown",
   "id": "98a09f19-723c-45c9-86a6-9b146a30986e",
   "metadata": {},
   "source": [
    "## Author\n",
    "Atreya Bhatta"
   ]
  }
 ],
 "metadata": {
  "kernelspec": {
   "display_name": "Python 3 (ipykernel)",
   "language": "python",
   "name": "python3"
  },
  "language_info": {
   "codemirror_mode": {
    "name": "ipython",
    "version": 3
   },
   "file_extension": ".py",
   "mimetype": "text/x-python",
   "name": "python",
   "nbconvert_exporter": "python",
   "pygments_lexer": "ipython3",
   "version": "3.11.7"
  }
 },
 "nbformat": 4,
 "nbformat_minor": 5
}
